{
 "cells": [
  {
   "cell_type": "code",
   "execution_count": 1,
   "metadata": {},
   "outputs": [],
   "source": [
    "from PyPDF2 import PdfFileReader, PdfFileWriter"
   ]
  },
  {
   "cell_type": "code",
   "execution_count": 2,
   "metadata": {},
   "outputs": [],
   "source": [
    "filename = \"Horario_2022-1_v03.pdf\"\n",
    "input1 = PdfFileReader(open(filename, \"rb\"))\n",
    "output = PdfFileWriter()\n",
    "\n",
    "def get_table(pageObj):\n",
    "  pageObj.mediaBox.upperRight = (pageObj.mediaBox.getLowerRight_x(), pageObj.mediaBox.getUpperRight_y() - 48)\n",
    "  pageObj.mediaBox.lowerRight = (pageObj.mediaBox.getLowerRight_x(), pageObj.mediaBox.getLowerRight_y() + 45)\n",
    "  pageObj.mediaBox.lowerLeft = (pageObj.mediaBox.getLowerLeft_x() + 57, pageObj.mediaBox.getLowerLeft_y())\n",
    "\n",
    "  return output.addPage(pageObj)\n",
    "\n",
    "for i in range(0, 12):\n",
    "  pageObj = input1.getPage(i)\n",
    "  get_table(pageObj)\n"
   ]
  },
  {
   "cell_type": "code",
   "execution_count": 3,
   "metadata": {},
   "outputs": [],
   "source": [
    "with open(\"Test.pdf\", \"wb\") as file:\n",
    "  output.write(file)"
   ]
  }
 ],
 "metadata": {
  "interpreter": {
   "hash": "31f2aee4e71d21fbe5cf8b01ff0e069b9275f58929596ceb00d14d90e3e16cd6"
  },
  "kernelspec": {
   "display_name": "Python 3.8.10 64-bit",
   "language": "python",
   "name": "python3"
  },
  "language_info": {
   "codemirror_mode": {
    "name": "ipython",
    "version": 3
   },
   "file_extension": ".py",
   "mimetype": "text/x-python",
   "name": "python",
   "nbconvert_exporter": "python",
   "pygments_lexer": "ipython3",
   "version": "3.8.10"
  },
  "orig_nbformat": 4
 },
 "nbformat": 4,
 "nbformat_minor": 2
}
